{
 "cells": [
  {
   "cell_type": "code",
   "execution_count": 1,
   "id": "809bbbd0-e45a-45d7-babf-c933dbf95224",
   "metadata": {},
   "outputs": [
    {
     "name": "stderr",
     "output_type": "stream",
     "text": [
      "C:\\Users\\big10\\anaconda3\\envs\\pytorch_gpu\\lib\\site-packages\\sentence_transformers\\cross_encoder\\CrossEncoder.py:11: TqdmExperimentalWarning: Using `tqdm.autonotebook.tqdm` in notebook mode. Use `tqdm.tqdm` instead to force console mode (e.g. in jupyter console)\n",
      "  from tqdm.autonotebook import tqdm, trange\n"
     ]
    }
   ],
   "source": [
    "from pathlib import Path\n",
    "\n",
    "from langchain.document_loaders import UnstructuredHTMLLoader\n",
    "from langchain_text_splitters import HTMLSectionSplitter\n",
    "from langchain_text_splitters import HTMLHeaderTextSplitter\n",
    "from langchain_text_splitters import RecursiveCharacterTextSplitter\n",
    "\n",
    "\n",
    "from sentence_transformers import SentenceTransformer\n",
    "import torch\n",
    "\n",
    "import chromadb\n",
    "from chromadb.utils import embedding_functions\n",
    "from chromadb.db.base import UniqueConstraintError\n",
    "import nomic\n",
    "from nomic import embed\n",
    "\n",
    "import uuid\n",
    "from langchain.schema import Document\n",
    "\n"
   ]
  },
  {
   "cell_type": "markdown",
   "id": "5cb54aeb-fd79-41f2-9620-0049cf0ea93f",
   "metadata": {},
   "source": [
    "## Load and split one document"
   ]
  },
  {
   "cell_type": "code",
   "execution_count": 2,
   "id": "6f55d002-d433-4cc7-92ac-9cd1ab102d21",
   "metadata": {},
   "outputs": [
    {
     "name": "stdout",
     "output_type": "stream",
     "text": [
      "Total number of splits: 155\n",
      "Sample split:\n",
      "page_content='loans, junior participating interests in first mortgages and preferred and direct equity. We also invest in real estate-related joint ventures and may directly acquire real property and invest in real estate-related notes and certain mortgage-related securities. Through our Agency Business, we originate, sell and service a range of multifamily finance products through the Federal National Mortgage Association (“Fannie Mae”) and the Federal Home Loan Mortgage Corporation (“Freddie Mac,” and together with Fannie Mae, the government-sponsored enterprises, or “GSEs”), the Government National Mortgage Association (“Ginnie Mae”), Federal Housing Authority (“FHA”) and the U.S. Department of Housing and Urban Development (together with Ginnie Mae and FHA, “HUD”). We retain the servicing rights and asset management responsibilities on substantially all loans we originate and sell under the GSE and HUD programs. We are an approved Fannie Mae Delegated Underwriting and Servicing (“DUS”) lender nationally, a Freddie Mac Multifamily Conventional Loan lender, seller/servicer, in New York, New Jersey and Connecticut, a Freddie Mac affordable, manufactured housing, senior housing and small balance loan (“SBL”) lender, seller/servicer, nationally and a HUD MAP and LEAN senior housing/healthcare lender nationally. We also originate and retain the servicing rights on permanent financing loans that are generally underwritten using the guidelines of our existing agency loans sold to the GSEs, which we refer to as “Private Label” loans, and originate and sell finance products through conduit/commercial mortgage-backed securities (“CMBS”) programs. We either sell the Private Label loans instantaneously or pool and securitize them and sell certificates in the securitizations to third party investors, while retaining the highest risk bottom tranche certificate of the securitization (“APL certificates”). Substantially all of our operations are conducted through our operating partnership,' metadata={'source': 'C:\\\\Users\\\\big10\\\\ml_project\\\\FinRepReader\\\\data\\\\sec-edgar-filings\\\\ABR\\\\10-K\\\\0001628280-24-005456\\\\primary-document.html', 'Header 1': '', 'Header 2': '', 'Header 3': ''}\n"
     ]
    }
   ],
   "source": [
    "relative_path = Path(\"data/sec-edgar-filings/ABR/10-K/0001628280-24-005456/primary-document.html\")\n",
    "file_path = Path.cwd() / relative_path\n",
    "if not file_path.exists():\n",
    "    raise FileNotFoundError(f\"The file {file_path} does not exist.\")\n",
    "\n",
    "# Load the document\n",
    "loader = UnstructuredHTMLLoader(str(file_path))\n",
    "data = loader.load()\n",
    "\n",
    "# First split: HTMLHeaderTextSplitter\n",
    "header_splitter = HTMLHeaderTextSplitter(\n",
    "    headers_to_split_on=[(\"h1\", \"Header 1\"), (\"h2\", \"Header 2\"), (\"h3\", \"Header 3\")],\n",
    ")\n",
    "html_header_splits = header_splitter.split_text(data[0].page_content)\n",
    "\n",
    "# Convert splits to Documents with metadata\n",
    "header_documents = []\n",
    "for split in html_header_splits:\n",
    "    metadata = {\n",
    "        \"source\": str(file_path),\n",
    "        \"Header 1\": split.metadata.get(\"Header 1\", \"\"),\n",
    "        \"Header 2\": split.metadata.get(\"Header 2\", \"\"),\n",
    "        \"Header 3\": split.metadata.get(\"Header 3\", \"\"),\n",
    "    }\n",
    "    header_documents.append(Document(page_content=split.page_content, metadata=metadata))\n",
    "\n",
    "# Second split: RecursiveCharacterTextSplitter\n",
    "chunk_size = 2000\n",
    "chunk_overlap = 200\n",
    "text_splitter = RecursiveCharacterTextSplitter(\n",
    "    chunk_size=chunk_size, chunk_overlap=chunk_overlap\n",
    ")\n",
    "final_splits = text_splitter.split_documents(header_documents)\n",
    "\n",
    "print(f\"Total number of splits: {len(final_splits)}\")\n",
    "print(\"Sample split:\")\n",
    "print(final_splits[5])"
   ]
  },
  {
   "cell_type": "code",
   "execution_count": 3,
   "id": "7161e900-a5eb-406d-8187-1755813dda53",
   "metadata": {},
   "outputs": [],
   "source": [
    "## Create and store embeddings"
   ]
  },
  {
   "cell_type": "code",
   "execution_count": 4,
   "id": "a4a38570-5459-4a79-8154-f34c53dc21d2",
   "metadata": {},
   "outputs": [],
   "source": [
    "#collection_name = \"sec_filings\"\n",
    "#collection = client.get_or_create_collection(name=collection_name, embedding_function=em)\n",
    "\n",
    "# Store splits in the database\n",
    "documents = []\n",
    "#metadatas = []\n",
    "ids = []\n",
    "\n",
    "for split in final_splits:\n",
    "    documents.append(split.page_content)\n",
    "    #metadatas.append(split.metadata)\n",
    "    ids.append(str(uuid.uuid4()))  # Generate a unique ID for each split\n",
    "\n",
    "# Add the documents to the collection\n",
    "#collection.add(\n",
    "#    documents=documents,\n",
    "#    metadatas=metadatas,\n",
    "#    ids=ids\n",
    "#)\n",
    "\n"
   ]
  },
  {
   "cell_type": "code",
   "execution_count": null,
   "id": "9cab81e4-904f-456b-99db-8db8a7ecda01",
   "metadata": {},
   "outputs": [],
   "source": [
    "\n",
    "\n",
    "client = chromadb.PersistentClient(path=\"/data/chromadb\")\n",
    "\n",
    "#embedding_function = embedding_functions.ollama_embedding_function.UserDefinedEmbeddingFunction(ollama_embedding_function)\n",
    "\n",
    "ollama_ef = embedding_functions.OllamaEmbeddingFunction(\n",
    "    url=\"http://localhost:11434/api/embeddings\",\n",
    "    model_name=\"nomic-embed-text\",\n",
    ")\n",
    "\n",
    "collection = client.get_or_create_collection(\n",
    "    \"sec_filings\",\n",
    "    embedding_function=ollama_ef\n",
    ")\n",
    "\n",
    "#splits = [\"This is my first text to embed\",                    \"This is my second document\"]\n",
    "\n",
    "#response = ollama.embeddings(model=\"nomic-embed-text\", prompt=split)\n",
    "#embedding = response[\"embedding\"]\n",
    "\n",
    "\n",
    "\n",
    "#embeddings = ollama_ef(splits)\n",
    "\n",
    "\n",
    "collection.add(\n",
    "    #embeddings=embeddings,\n",
    "    documents=documents,\n",
    "    ids=ids\n",
    ")\n",
    "\n",
    "print(f\"Added {len(documents)} documents to the collection.\")\n",
    "\n",
    "results = collection.query(\n",
    "    query_texts=[\"Earnings 2024\"],\n",
    "    n_results=1\n",
    ")\n",
    "\n",
    "print(results)"
   ]
  },
  {
   "cell_type": "code",
   "execution_count": null,
   "id": "c6b9127a-109b-4171-a942-4a61be41bb20",
   "metadata": {},
   "outputs": [],
   "source": [
    "collection.get_model()"
   ]
  },
  {
   "cell_type": "code",
   "execution_count": null,
   "id": "f6aba405-e742-46d9-9668-930cb625b8e9",
   "metadata": {},
   "outputs": [],
   "source": []
  }
 ],
 "metadata": {
  "kernelspec": {
   "display_name": "Python 3 (ipykernel)",
   "language": "python",
   "name": "python3"
  },
  "language_info": {
   "codemirror_mode": {
    "name": "ipython",
    "version": 3
   },
   "file_extension": ".py",
   "mimetype": "text/x-python",
   "name": "python",
   "nbconvert_exporter": "python",
   "pygments_lexer": "ipython3",
   "version": "3.10.14"
  }
 },
 "nbformat": 4,
 "nbformat_minor": 5
}
