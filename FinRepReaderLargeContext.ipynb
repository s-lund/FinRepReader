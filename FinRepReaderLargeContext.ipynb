{
 "cells": [
  {
   "cell_type": "markdown",
   "id": "2d8e820f-4580-46af-a9c6-f3c999a8430c",
   "metadata": {},
   "source": [
    "# Notebook to collect financial information"
   ]
  },
  {
   "cell_type": "markdown",
   "id": "1921c506-4d02-4e1a-87c6-a53a9628c26e",
   "metadata": {},
   "source": [
    "## Import libraries"
   ]
  },
  {
   "cell_type": "code",
   "execution_count": 1,
   "id": "809bbbd0-e45a-45d7-babf-c933dbf95224",
   "metadata": {},
   "outputs": [
    {
     "name": "stderr",
     "output_type": "stream",
     "text": [
      "USER_AGENT environment variable not set, consider setting it to identify your requests.\n",
      "C:\\Users\\big10\\anaconda3\\envs\\AI\\Lib\\site-packages\\pydantic\\_internal\\_config.py:341: UserWarning: Valid config keys have changed in V2:\n",
      "* 'allow_population_by_field_name' has been renamed to 'populate_by_name'\n",
      "* 'smart_union' has been removed\n",
      "  warnings.warn(message, UserWarning)\n"
     ]
    }
   ],
   "source": [
    "from pathlib import Path\n",
    "\n",
    "from langchain.document_loaders import UnstructuredHTMLLoader\n",
    "from langchain.document_loaders import WebBaseLoader\n",
    "from langchain.document_loaders import TextLoader\n",
    "\n",
    "from langchain_community.document_loaders import BSHTMLLoader\n",
    "from langchain_community import embeddings\n",
    "from langchain_community.llms import Ollama\n",
    "from langchain_community.embeddings import OllamaEmbeddings\n",
    "from langchain_community.vectorstores.faiss import DistanceStrategy\n",
    "from langchain_community.document_loaders import PyMuPDFLoader\n",
    "\n",
    "from langchain_text_splitters import RecursiveCharacterTextSplitter\n",
    "from langchain_text_splitters import CharacterTextSplitter\n",
    "from langchain.schema import Document\n",
    "from langchain.vectorstores import FAISS\n",
    "from langchain.vectorstores import DuckDB\n",
    "from langchain.vectorstores import Chroma\n",
    "\n",
    "from langchain.tools import DuckDuckGoSearchRun\n",
    "from langchain.tools import Tool\n",
    "from langchain.docstore import InMemoryDocstore\n",
    "from langchain.agents import Tool\n",
    "\n",
    "import uuid\n",
    "import time\n",
    "import pymupdf\n",
    "from crewai import Agent, Task, Crew\n",
    "from crewai.task import TaskOutput\n",
    "\n"
   ]
  },
  {
   "cell_type": "markdown",
   "id": "5cb54aeb-fd79-41f2-9620-0049cf0ea93f",
   "metadata": {},
   "source": [
    "## Load and split one document"
   ]
  },
  {
   "cell_type": "code",
   "execution_count": 2,
   "id": "6f55d002-d433-4cc7-92ac-9cd1ab102d21",
   "metadata": {},
   "outputs": [
    {
     "name": "stdout",
     "output_type": "stream",
     "text": [
      "Total number of splits: 4\n",
      "Sample split:\n"
     ]
    },
    {
     "data": {
      "text/plain": [
       "199891"
      ]
     },
     "execution_count": 2,
     "metadata": {},
     "output_type": "execute_result"
    }
   ],
   "source": [
    "#relative_path = Path(\"data/sec-edgar-filings/ABR/10-K/0001628280-24-005456/primary-document.html\")\n",
    "relative_path_sec_file = Path(\"data/sec-edgar-filings/O/10-K/realty_income.pdf\")\n",
    "#relative_path_investor_pres = Path(\"data/sec-edgar-filings/O/10-K/investor-presentation-q4-2023.pdf\")\n",
    "\n",
    "\n",
    "#file_path = Path.cwd() / relative_path\n",
    "#if not file_path.exists():\n",
    "#    raise FileNotFoundError(f\"The file {file_path} does not exist.\")\n",
    "\n",
    "#urls = [\"https://otp.tools.investis.com/clients/us/realty_income_corporation/SEC/sec-show.aspx?Type=html&FilingId=17292849&Cik=0000726728\"]\n",
    "\n",
    "#loader = WebBaseLoader(urls)\n",
    "#loader = BSHTMLLoader(str(file_path))\n",
    "#data = loader.load()\n",
    "data = PyMuPDFLoader(relative_path_sec_file).load()\n",
    "#data.extend(PyMuPDFLoader(relative_path_investor_pres).load())\n",
    "\n",
    "all_page_content = [page.page_content for page in data]\n",
    "full_data = ' - NEW PAGE - '.join(all_page_content)\n",
    "\n",
    "chunk_size = 50000 * 4 \n",
    "chunk_overlap = 5000 * 4\n",
    "\n",
    "text_splitter = RecursiveCharacterTextSplitter(\n",
    "    chunk_size=chunk_size,\n",
    "    chunk_overlap=chunk_overlap)\n",
    "\n",
    "final_splits = text_splitter.split_text(full_data)\n",
    "\n",
    "print(f\"Total number of splits: {len(final_splits)}\")\n",
    "print(\"Sample split:\")\n",
    "#print(final_splits[11])\n",
    "len(final_splits[0])"
   ]
  },
  {
   "cell_type": "code",
   "execution_count": 3,
   "id": "20ddd55f-0118-4b8b-9340-c4142b3cc622",
   "metadata": {},
   "outputs": [],
   "source": [
    "required_items = \"\"\"\n",
    "1. What is the name of company this statement is about?\n",
    "2. What is the industry in which the company in this statement is operating?\n",
    "3. Net income?\n",
    "4. Risks?\n",
    "5. One important piece of information an Investor should know about the company.\n",
    "\n",
    "Format your response as follows:\n",
    "- Name of the company: [Single line answer]\n",
    "- Industry: [Single line answer]\n",
    "- Net income: [Single number]\n",
    "- Risks: [Bullet list of the top 3 risks, each 1 line]\n",
    "- Important fact: [Single line answer]\n",
    "\"\"\""
   ]
  },
  {
   "cell_type": "code",
   "execution_count": 4,
   "id": "3a6642eb-808c-4e5b-bf6e-09eeb6590bfd",
   "metadata": {},
   "outputs": [],
   "source": [
    "def create_enhanced_prompt(retrieved_info, required_items):\n",
    "    enhanced_prompt = f\"\"\"You are a financial analyst tasked with extracting key information from a company's 10-K or 10-Q report. Focus solely on the provided excerpts to answer the following questions.\n",
    "    \n",
    "    Here are the relevant excerpts from the report:\n",
    "    {retrieved_info}\n",
    "    \n",
    "    \n",
    "    Please provide information about the following:\n",
    "    {required_items}\n",
    "    If any requested information is not explicitly stated in the provided excerpts, respond with \"Information not provided in the given context.\"\n",
    "    \n",
    "    Base your answers strictly on the provided context. Keep your responses brief and focused.\n",
    "    \n",
    "    For each answer, indicate your confidence level (High/Medium/Low) based on how explicitly the information is stated in the text.\n",
    "    \"\"\"\n",
    "    return enhanced_prompt"
   ]
  },
  {
   "cell_type": "markdown",
   "id": "6fd37f97-16d8-42cf-a610-a1a97d0740ae",
   "metadata": {},
   "source": [
    "## Asking the mighty llm"
   ]
  },
  {
   "cell_type": "code",
   "execution_count": 5,
   "id": "8ff373d5-4ee3-4570-8639-646477489c1f",
   "metadata": {},
   "outputs": [],
   "source": [
    "#llm = Ollama(model=\"llama3.1\", temperature=0.5)\n",
    "\n",
    "llm = Ollama(model=\"dolphin-2.9.3-mistral-nemo-12b\", temperature=0.3)"
   ]
  },
  {
   "cell_type": "code",
   "execution_count": 6,
   "id": "3ebcb1b2-317f-4805-99b2-405951a7f65c",
   "metadata": {},
   "outputs": [
    {
     "name": "stdout",
     "output_type": "stream",
     "text": [
      "Name of the company: Information not provided in the given context.\n",
      "Industry: Financial services industry\n",
      "Net income: Information not provided in the given context.\n",
      "Risks: \n",
      "- Counterparty credit risk\n",
      "- Interest rate risk\n",
      "- Liquidity risk\n",
      "Important fact: The company has entered into interest rate swaps to manage its debt obligations and mitigate risks associated with variable interest rates.\n",
      "-------------------------------------------------------------------\n",
      "- Name of the company: VEREIT Operating Partnership, L.P. \n",
      "- Industry: Real Estate Investment Trusts (REITs) \n",
      "- Net income: Information not provided in the given context. \n",
      "- Risks: \n",
      "    - Market risk due to fluctuations in real estate markets. \n",
      "    - Interest rate risk due to variable interest rates on debt obligations. \n",
      "    - Credit risk from tenants failing to pay rent or defaulting on lease agreements. \n",
      "- Important fact: The company has issued multiple series of notes with varying maturity dates and interest rates, including a recent issuance of $400 million in aggregate principal amount of its 5.625% Notes due October 13, 2032.\n",
      "-------------------------------------------------------------------\n",
      "- Name of the company: Realty Income Corporation\n",
      "- Industry: Real Estate Investment Trusts\n",
      "- Net income: Information not provided in the given context.\n",
      "- Risks: \n",
      "    - Changes in interest rates could affect the company's debt service charges and financial condition.\n",
      "    - Failure to maintain a minimum level of unencumbered assets could lead to violations of loan agreements or other adverse consequences.\n",
      "    - The company relies on its ability to acquire properties, which may be affected by market conditions or competition.\n",
      "- Important fact: Realty Income Corporation is required to maintain Total Unencumbered Assets of not less than 150% of the aggregate outstanding principal amount of the Unsecured Debt of Realty Income and its Subsidiaries.\n",
      "-------------------------------------------------------------------\n",
      "- Name of the company: Information not provided in the given context.\n",
      "- Industry: Financial services industry.\n",
      "- Net income: Information not provided in the given context.\n",
      "- Risks: \n",
      "    - Potential violation of home country laws if recovery is attempted.\n",
      "    - Costs to recover erroneously awarded compensation may exceed the amount recovered.\n",
      "    - Recovery attempts may cause an otherwise tax-qualified retirement plan to fail to meet certain requirements.\n",
      "- Important fact: The company has a policy in place for recovering erroneously awarded incentive-based compensation due to restatements or other recoverable events.\n",
      "-------------------------------------------------------------------\n"
     ]
    }
   ],
   "source": [
    "for retrieved_info in final_splits: \n",
    "\n",
    "    enhanced_prompt = create_enhanced_prompt(retrieved_info, required_items)\n",
    "    \n",
    "    answer = llm.invoke(enhanced_prompt)\n",
    "\n",
    "    print(answer)\n",
    "    print('-------------------------------------------------------------------')"
   ]
  },
  {
   "cell_type": "code",
   "execution_count": 7,
   "id": "84e3d6c3-d550-4092-9345-4493b50dcb7d",
   "metadata": {},
   "outputs": [
    {
     "ename": "NameError",
     "evalue": "name 'horst' is not defined",
     "output_type": "error",
     "traceback": [
      "\u001b[1;31m---------------------------------------------------------------------------\u001b[0m",
      "\u001b[1;31mNameError\u001b[0m                                 Traceback (most recent call last)",
      "Cell \u001b[1;32mIn[7], line 1\u001b[0m\n\u001b[1;32m----> 1\u001b[0m horst\n",
      "\u001b[1;31mNameError\u001b[0m: name 'horst' is not defined"
     ]
    }
   ],
   "source": [
    "horst"
   ]
  },
  {
   "cell_type": "markdown",
   "id": "17d1f5fd-430e-4bbe-952b-a111adb92c50",
   "metadata": {},
   "source": [
    "Here are the answers:\n",
    "\n",
    "1. **Realty Income Corporation** (Confidence: High)\n",
    "2. **Real Estate Investment Trust (REIT)** (Confidence: Medium)\n",
    "3. **$272,083,100** (Confidence: High)\n",
    "4. \n",
    "* **Continued qualification as a real estate investment trust**\n",
    "* **General domestic and foreign business, economic, or financial conditions**\n",
    "* **Potential liability relating to environmental matters** (Confidence: Low)\n",
    "\n",
    "Note that the provided text does not explicitly mention net income in the usual sense, but rather mentions \"operating results\" which is related to the overall performance of the company."
   ]
  },
  {
   "cell_type": "markdown",
   "id": "95d50b0d-2ea8-4271-b58b-3880b7728508",
   "metadata": {},
   "source": [
    "## Let the crew figure this out"
   ]
  },
  {
   "cell_type": "code",
   "execution_count": null,
   "id": "d8a277a1-927a-4b52-8c67-01328364b029",
   "metadata": {},
   "outputs": [],
   "source": [
    "llm = Ollama(model=\"llama3.1\", temperature=1.0)\n",
    "\n",
    "\n",
    "# Initialize DuckDuckGo search tool\n",
    "duckduckgo_search = DuckDuckGoSearchRun()\n",
    "\n",
    "def on_tool_start(tool_name):\n",
    "    print(f\"Tool {tool_name} started\")\n",
    "\n",
    "def on_tool_error(tool_name, error):\n",
    "    print(f\"Tool {tool_name} encountered an error: {error}\")\n",
    "\n",
    "def on_tool_end(tool_name, result):\n",
    "    print(f\"Tool {tool_name} completed with result: {result}\")\n",
    "\n",
    "\n",
    "def callback_function(output: TaskOutput):\n",
    "    # Do something after the task is completed\n",
    "    # Example: Send an email to the manager\n",
    "    print(f\"\"\"\n",
    "        Task completed!\n",
    "        Task: {output.description}\n",
    "        Output: {output.summary}\n",
    "    \"\"\")\n",
    "\n",
    "# Function to query the vector database\n",
    "def query_vector_db(query: str) -> str:\n",
    "    results = db.similarity_search(query, k=2)\n",
    "    return \"\\n\".join([doc.page_content for doc in results])\n",
    "\n",
    "# Create tools\n",
    "tools = [\n",
    "    Tool(\n",
    "        name=\"DuckDuckGo Search\",\n",
    "        func=duckduckgo_search.run,\n",
    "        description=\"Useful for when you need to search the internet for current information.\",\n",
    "        on_start=on_tool_start,\n",
    "        on_error=on_tool_error,\n",
    "        on_end=on_tool_end\n",
    "    ),\n",
    "    Tool(\n",
    "        name=\"Vector Database\",\n",
    "        func=query_vector_db,\n",
    "        description=\"Useful for retrieving specific information from the company's knowledge base.\",\n",
    "        on_start=on_tool_start,\n",
    "        on_error=on_tool_error,\n",
    "        on_end=on_tool_end\n",
    "    )\n",
    "]\n",
    "\n",
    "\n",
    "# Create the Financial Analyst agent with tools\n",
    "financial_analyst = Agent(\n",
    "    role='Financial Analyst',\n",
    "    goal='Provide accurate and insightful financial analysis based on given prompts with all the tools provided to you.',\n",
    "    backstory=\"\"\"You are an experienced financial analyst with a strong \n",
    "    background in reading financial statements and company related financial reports. You are also eager to use tools.\n",
    "    Use the tools provided to you (\"DuckDuckGo Search\" and \"Vector Database\") for your work.\n",
    "    The correctness of your reports is key. If you get information wrong you'll receive salary cuts.\n",
    "    The provided tools will help you to ensure the correctness of your report.\n",
    "    You like your reports to be brief and to the point.\"\"\",\n",
    "    verbose=True,\n",
    "    allow_delegation=False,\n",
    "    tools=tools,\n",
    "    llm=llm,\n",
    "    max_iter=50\n",
    "    \n",
    ")\n",
    "#                    You are given this enhanced prompt: >>>{enhanced_prompt}<<< \n",
    "#                    It has a basic input template and included are outputs from a vector database, which was\n",
    "#                    filled with chunks of A. financial statements and B. the company presentation of the company we are interested in.\n",
    "task1 = Task(\n",
    "    description=f\"\"\"\n",
    "\n",
    "                    The goal is to provide this information: >>>{required_items}<<<\n",
    "\n",
    "                    The enhanced prompt was already given to an LLM to extract the information form the vector database chunks included in\n",
    "                    the enhanced prompt. This is the output from the LLM >>>{answer}<<<.\n",
    "\n",
    "                    This information might be:\n",
    "                        A. Correct\n",
    "                        B. Incorrect\n",
    "                        C. Incomplete\n",
    "\n",
    "                    Your task is to verify the output from the LLM and check with the tools given to you if the given information is correct.\n",
    "                    If the information is correct and complete indicate the information as correct and complete.\n",
    "                    If the information is incorrect, please correct the information and indicate that you had to correct the information.\n",
    "                    If the information is incomplete, please complete the information and indicate what additional information you added.\n",
    "\n",
    "                    Use the tools provided to you (\"DuckDuckGo Search\" and \"Vector Database\") for your work. As a minimum you have to use\n",
    "                    \"DuckDuckGo Search\" to verify the Net income.\n",
    "\n",
    "                    When you think you are done review the information you have. Check again with a tool if the Net income in in line with DuckDuckGo.\n",
    "    \n",
    "                    Only then provide this information >>>{required_items}<<< at the end.\n",
    "\n",
    "                   \"\"\",\n",
    "    agent=prompt_expert,\n",
    "    expected_output=f\"\"\"A well-crafted prompt for a financial analyst to provide\n",
    "                        {required_items} \n",
    "                        for the company in question.\n",
    "                        \"\"\",\n",
    "    callback=callback_function\n",
    ")\n",
    "\n",
    "# Create the crew with both agents\n",
    "crew = Crew(\n",
    "    agents=[financial_analyst],\n",
    "    tasks=[task1],\n",
    "    verbose=True\n",
    ")\n",
    "\n",
    "# Run the crew\n",
    "result = crew.kickoff()\n",
    "\n",
    "print(result)\n",
    "\n",
    "\n"
   ]
  },
  {
   "cell_type": "code",
   "execution_count": null,
   "id": "09b1c79e-696d-408c-9e2a-d425fd1d80c8",
   "metadata": {},
   "outputs": [],
   "source": []
  }
 ],
 "metadata": {
  "kernelspec": {
   "display_name": "Python 3 (ipykernel)",
   "language": "python",
   "name": "python3"
  },
  "language_info": {
   "codemirror_mode": {
    "name": "ipython",
    "version": 3
   },
   "file_extension": ".py",
   "mimetype": "text/x-python",
   "name": "python",
   "nbconvert_exporter": "python",
   "pygments_lexer": "ipython3",
   "version": "3.11.9"
  }
 },
 "nbformat": 4,
 "nbformat_minor": 5
}
